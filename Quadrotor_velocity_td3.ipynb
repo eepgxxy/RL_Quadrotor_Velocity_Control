{
 "cells": [
  {
   "cell_type": "markdown",
   "metadata": {},
   "source": [
    "## Step 1 Install required packages"
   ]
  },
  {
   "cell_type": "code",
   "execution_count": 1,
   "metadata": {},
   "outputs": [],
   "source": [
    "# !pip install rlschool==0.3.1\n",
    "# !pip install parl==1.3.1"
   ]
  },
  {
   "cell_type": "markdown",
   "metadata": {},
   "source": [
    "## Step 2 Import required packages"
   ]
  },
  {
   "cell_type": "code",
   "execution_count": 6,
   "metadata": {},
   "outputs": [],
   "source": [
    "import os\n",
    "import numpy as np\n",
    "\n",
    "import parl\n",
    "from parl import layers\n",
    "from paddle import fluid\n",
    "from parl.utils import logger\n",
    "from parl.utils import action_mapping # 将神经网络输出映射到对应的 实际动作取值范围 内\n",
    "from parl.utils import ReplayMemory # 经验回放\n",
    "\n",
    "from rlschool import make_env  # 使用 RLSchool 创建飞行器环境"
   ]
  },
  {
   "cell_type": "markdown",
   "metadata": {},
   "source": [
    "## Step 3 Set parameters"
   ]
  },
  {
   "cell_type": "code",
   "execution_count": 7,
   "metadata": {},
   "outputs": [],
   "source": [
    "######################################################################\n",
    "######################################################################\n",
    "#\n",
    "# 1. 请设定 learning rate，尝试增减查看效果\n",
    "#\n",
    "######################################################################\n",
    "######################################################################\n",
    "ACTOR_LR = 1e-3   # Actor网络更新的 learning rate\n",
    "CRITIC_LR = 1e-3   # Critic网络更新的 learning rate\n",
    "\n",
    "GAMMA = 0.95        # reward 的衰减因子，一般取 0.9 到 0.999 不等\n",
    "TAU = 0.005         # target_model 跟 model 同步参数 的 软更新参数\n",
    "MEMORY_SIZE = int(1e6)   # replay memory的大小，越大越占用内存\n",
    "WARMUP_SIZE = 1e4      # replay_memory 里需要预存一些经验数据，再从里面sample一个batch的经验让agent去learn\n",
    "REWARD_SCALE = 0.1       # reward 的缩放因子\n",
    "BATCH_SIZE = 256          # 每次给agent learn的数据数量，从replay memory随机里sample一批数据出来\n",
    "TRAIN_TOTAL_STEPS = 1e6   # 总训练步数\n",
    "TEST_EVERY_STEPS = 1e4    # 每个N步评估一下算法效果，每次评估5个episode求平均reward\n",
    "EXPL_NOISE = 0.1         # 添加噪声系数"
   ]
  },
  {
   "cell_type": "markdown",
   "metadata": {},
   "source": [
    "## Step 4 Set up Model, Algorithm and Agent"
   ]
  },
  {
   "cell_type": "markdown",
   "metadata": {},
   "source": [
    "### （1）Model"
   ]
  },
  {
   "cell_type": "code",
   "execution_count": 8,
   "metadata": {},
   "outputs": [],
   "source": [
    "class ActorModel(parl.Model):\n",
    "    def __init__(self, act_dim, max_action):\n",
    "        hid1_size = 300\n",
    "        hid2_size = 300\n",
    "\n",
    "        self.fc1 = layers.fc(size=hid1_size, act='tanh')\n",
    "        self.fc2 = layers.fc(size=hid2_size, act='tanh')\n",
    "        self.fc3 = layers.fc(size=act_dim, act='tanh')\n",
    "\n",
    "        self.max_action = max_action\n",
    "        ######################################################################\n",
    "        ######################################################################\n",
    "        #\n",
    "        # 2. 配置model结构\n",
    "        #\n",
    "        ######################################################################\n",
    "        ######################################################################\n",
    "\n",
    "    def policy(self, obs):\n",
    "        ######################################################################\n",
    "        ######################################################################\n",
    "        #\n",
    "        # 3. 组装policy网络\n",
    "        #\n",
    "        ######################################################################\n",
    "        ######################################################################\n",
    "        hid1 = self.fc1(obs)\n",
    "        hid2 = self.fc2(hid1)\n",
    "        means = self.fc3(hid2)\n",
    "        means = means * self.max_action\n",
    "        return means"
   ]
  },
  {
   "cell_type": "code",
   "execution_count": 9,
   "metadata": {},
   "outputs": [],
   "source": [
    "class CriticModel(parl.Model):\n",
    "    def __init__(self, act_dim):\n",
    "        ######################################################################\n",
    "        ######################################################################\n",
    "        #\n",
    "        # 4. 配置model结构\n",
    "        #\n",
    "        ######################################################################\n",
    "        ######################################################################\n",
    "        hid1_size = 300\n",
    "        hid2_size = 300\n",
    "\n",
    "        self.fc1 = layers.fc(size=hid1_size, act='tanh')\n",
    "        self.fc2 = layers.fc(size=hid2_size + act_dim, act='tanh')\n",
    "        self.fc3 = layers.fc(size=1, act=None)\n",
    "\n",
    "        self.fc4 = layers.fc(size=hid1_size, act='tanh')\n",
    "        self.fc5 = layers.fc(size=hid2_size + act_dim, act='tanh')\n",
    "        self.fc6 = layers.fc(size=1, act=None)\n",
    "  \n",
    "\n",
    "    def value(self, obs, act):\n",
    "        # 输入 state, action, 输出对应的Q(s,a)\n",
    "\n",
    "        ######################################################################\n",
    "        ######################################################################\n",
    "        #\n",
    "        # 5. 组装Q网络\n",
    "        #\n",
    "        ######################################################################\n",
    "        ######################################################################\n",
    "        hid1 = self.fc1(obs)\n",
    "        concat1 = layers.concat([hid1, act], axis=1)\n",
    "        Q1 = self.fc2(concat1)\n",
    "        Q1 = self.fc3(Q1)\n",
    "        Q1 = layers.squeeze(Q1, axes=[1])\n",
    "\n",
    "        hid2 = self.fc4(obs)\n",
    "        concat2 = layers.concat([hid2, act], axis=1)\n",
    "        Q2 = self.fc5(concat2)\n",
    "        Q2 = self.fc6(Q2)\n",
    "        Q2 = layers.squeeze(Q2, axes=[1])\n",
    "        return Q1, Q2\n",
    "\n",
    "    def Q1(self, obs, act):\n",
    "        hid1 = self.fc1(obs)\n",
    "        concat1 = layers.concat([hid1, act], axis=1)\n",
    "        Q1 = self.fc2(concat1)\n",
    "        Q1 = self.fc3(Q1)\n",
    "        Q1 = layers.squeeze(Q1, axes=[1])\n",
    "\n",
    "        return Q1"
   ]
  },
  {
   "cell_type": "code",
   "execution_count": 10,
   "metadata": {},
   "outputs": [],
   "source": [
    "class QuadrotorModel(parl.Model):\n",
    "    def __init__(self, act_dim, max_action):\n",
    "        self.actor_model = ActorModel(act_dim, max_action)\n",
    "        self.critic_model = CriticModel(act_dim)\n",
    "\n",
    "    def policy(self, obs):\n",
    "        return self.actor_model.policy(obs)\n",
    "\n",
    "    def value(self, obs, act):\n",
    "        return self.critic_model.value(obs, act)\n",
    "\n",
    "    def Q1(self, obs, act):\n",
    "        return self.critic_model.Q1(obs, act)\n",
    "\n",
    "    def get_actor_params(self):\n",
    "        return self.actor_model.parameters()"
   ]
  },
  {
   "cell_type": "markdown",
   "metadata": {},
   "source": [
    "### （2）Algorithm"
   ]
  },
  {
   "cell_type": "code",
   "execution_count": 11,
   "metadata": {},
   "outputs": [],
   "source": [
    "from parl.algorithms import TD3"
   ]
  },
  {
   "cell_type": "markdown",
   "metadata": {},
   "source": [
    "### （3）Agent"
   ]
  },
  {
   "cell_type": "code",
   "execution_count": 12,
   "metadata": {},
   "outputs": [],
   "source": [
    "\n",
    "class QuadrotorAgent(parl.Agent):\n",
    "    def __init__(self, algorithm, obs_dim, act_dim):\n",
    "        assert isinstance(obs_dim, int)\n",
    "        assert isinstance(act_dim, int)\n",
    "        self.obs_dim = obs_dim\n",
    "        self.act_dim = act_dim\n",
    "        super(QuadrotorAgent, self).__init__(algorithm)\n",
    "\n",
    "        # Attention: In the beginning, sync target model totally.\n",
    "        self.alg.sync_target(decay=0)\n",
    "        self.learn_it = 0\n",
    "        self.policy_freq = self.alg.policy_freq\n",
    "\n",
    "    def build_program(self):\n",
    "        self.pred_program = fluid.Program()\n",
    "        self.actor_learn_program = fluid.Program()\n",
    "        self.critic_learn_program = fluid.Program()\n",
    "\n",
    "        with fluid.program_guard(self.pred_program):\n",
    "            obs = layers.data(\n",
    "                name='obs', shape=[self.obs_dim], dtype='float32')\n",
    "            self.pred_act = self.alg.predict(obs)\n",
    "\n",
    "        with fluid.program_guard(self.actor_learn_program):\n",
    "            obs = layers.data(\n",
    "                name='obs', shape=[self.obs_dim], dtype='float32')\n",
    "            self.actor_cost = self.alg.actor_learn(obs)\n",
    "\n",
    "        with fluid.program_guard(self.critic_learn_program):\n",
    "            obs = layers.data(\n",
    "                name='obs', shape=[self.obs_dim], dtype='float32')\n",
    "            act = layers.data(\n",
    "                name='act', shape=[self.act_dim], dtype='float32')\n",
    "            reward = layers.data(name='reward', shape=[], dtype='float32')\n",
    "            next_obs = layers.data(\n",
    "                name='next_obs', shape=[self.obs_dim], dtype='float32')\n",
    "            terminal = layers.data(name='terminal', shape=[], dtype='bool')\n",
    "            self.critic_cost = self.alg.critic_learn(obs, act, reward,\n",
    "                                                     next_obs, terminal)\n",
    "\n",
    "    def predict(self, obs):\n",
    "        obs = np.expand_dims(obs, axis=0)\n",
    "        act = self.fluid_executor.run(\n",
    "            self.pred_program, feed={'obs': obs},\n",
    "            fetch_list=[self.pred_act])[0]\n",
    "        return act\n",
    "\n",
    "    def learn(self, obs, act, reward, next_obs, terminal):\n",
    "        self.learn_it += 1\n",
    "        feed = {\n",
    "            'obs': obs,\n",
    "            'act': act,\n",
    "            'reward': reward,\n",
    "            'next_obs': next_obs,\n",
    "            'terminal': terminal\n",
    "        }\n",
    "        critic_cost = self.fluid_executor.run(\n",
    "            self.critic_learn_program,\n",
    "            feed=feed,\n",
    "            fetch_list=[self.critic_cost])[0]\n",
    "\n",
    "        actor_cost = None\n",
    "        if self.learn_it % self.policy_freq == 0:\n",
    "            actor_cost = self.fluid_executor.run(\n",
    "                self.actor_learn_program,\n",
    "                feed={'obs': obs},\n",
    "                fetch_list=[self.actor_cost])[0]\n",
    "            self.alg.sync_target()\n",
    "        return actor_cost, critic_cost\n",
    "\n",
    "    def save(self, save_path, mode, program=None):\n",
    "        \"\"\"Save parameters.\n",
    "        Args:\n",
    "            save_path(str): where to save the parameters.\n",
    "            program(fluid.Program): program that describes the neural network structure. If None, will use self.learn_program.\n",
    "        Raises:\n",
    "            ValueError: if program is None and self.learn_program does not exist.\n",
    "        Example:\n",
    "        .. code-block:: python\n",
    "            agent = AtariAgent()\n",
    "            agent.save('./model.ckpt')\n",
    "        \"\"\"\n",
    "        if mode == \"train_actor\":\n",
    "            save_program = self.actor_learn_program\n",
    "        elif mode == \"train_critic\":\n",
    "            save_program = self.critic_learn_program\n",
    "        elif mode == \"predict\":\n",
    "            save_program = self.pred_program\n",
    "        else:\n",
    "            save_program = self.pred_program\n",
    "        if program is None:\n",
    "            program = save_program\n",
    "        dirname = os.sep.join(save_path.split(os.sep)[:-1])\n",
    "        filename = save_path.split(os.sep)[-1]\n",
    "        fluid.io.save_params(\n",
    "            executor=self.fluid_executor,\n",
    "            dirname=dirname,\n",
    "            main_program=program,\n",
    "            filename=filename)\n",
    "\n",
    "    def restore(self, save_path, mode, program=None):\n",
    "        \"\"\"Restore previously saved parameters.\n",
    "        This method requires a program that describes the network structure.\n",
    "        The save_path argument is typically a value previously passed to ``save_params()``.\n",
    "        Args:\n",
    "            save_path(str): path where parameters were previously saved.\n",
    "            program(fluid.Program): program that describes the neural network structure. If None, will use self.learn_program.\n",
    "        Raises:\n",
    "            ValueError: if program is None and self.learn_program does not exist.\n",
    "        Example:\n",
    "        .. code-block:: python\n",
    "            agent = AtariAgent()\n",
    "            agent.save('./model.ckpt')\n",
    "            agent.restore('./model.ckpt')\n",
    "        \"\"\"\n",
    "        if mode == \"train_actor\":\n",
    "            save_program = self.actor_learn_program\n",
    "        elif mode == \"train_critic\":\n",
    "            save_program = self.critic_learn_program\n",
    "        elif mode == \"predict\":\n",
    "            save_program = self.pred_program\n",
    "        else:\n",
    "            save_program = self.pred_program \n",
    "        if program is None:\n",
    "            program = save_program\n",
    "        if type(program) is fluid.compiler.CompiledProgram:\n",
    "            program = program._init_program\n",
    "        dirname = os.sep.join(save_path.split(os.sep)[:-1])\n",
    "        filename = save_path.split(os.sep)[-1]\n",
    "        fluid.io.load_params(\n",
    "            executor=self.fluid_executor,\n",
    "            dirname=dirname,\n",
    "            main_program=program,\n",
    "            filename=filename)"
   ]
  },
  {
   "cell_type": "markdown",
   "metadata": {},
   "source": [
    "## Step 5 Training && Test"
   ]
  },
  {
   "cell_type": "code",
   "execution_count": 13,
   "metadata": {},
   "outputs": [],
   "source": [
    "def run_episode(env, agent, rpm):\n",
    "    obs = env.reset()\n",
    "    total_reward = 0\n",
    "    steps = 0\n",
    "    max_action = float(env.action_space.high[0])\n",
    "    while True:\n",
    "        steps += 1\n",
    "        batch_obs = np.expand_dims(obs, axis=0)\n",
    "\n",
    "        if rpm.size() < WARMUP_SIZE:\n",
    "            action = env.action_space.sample()\n",
    "        else:\n",
    "            action = agent.predict(batch_obs.astype('float32'))\n",
    "            action = np.squeeze(action)\n",
    "\n",
    "            # Add exploration noise, and clip to [-max_action, max_action]\n",
    "            action = np.clip(\n",
    "                np.random.normal(action, EXPL_NOISE * max_action), -max_action,\n",
    "                max_action)\n",
    "\n",
    "        next_obs, reward, done, info = env.step(action)\n",
    "\n",
    "        rpm.append(obs, action, reward, next_obs, done)\n",
    "\n",
    "        if rpm.size() > WARMUP_SIZE:\n",
    "            batch_obs, batch_action, batch_reward, batch_next_obs, batch_terminal = rpm.sample_batch(\n",
    "                BATCH_SIZE)\n",
    "            agent.learn(batch_obs, batch_action, batch_reward, batch_next_obs,\n",
    "                        batch_terminal)\n",
    "\n",
    "        obs = next_obs\n",
    "        total_reward += reward\n",
    "\n",
    "        if done:\n",
    "            break\n",
    "    return total_reward, steps\n",
    "\n",
    "\n",
    "# 评估 agent, 跑 5 个episode，总reward求平均\n",
    "def evaluate(env, agent, render=False):\n",
    "    eval_reward = []\n",
    "    for i in range(5):\n",
    "        obs = env.reset()\n",
    "        total_reward = 0\n",
    "        while True:\n",
    "            batch_obs = np.expand_dims(obs, axis=0)\n",
    "            action = agent.predict(batch_obs.astype('float32'))\n",
    "            action = np.squeeze(action)\n",
    "            action = np.clip(np.random.normal(action, 1.0), -1.0, 1.0)\n",
    "            action = action_mapping(action, env.action_space.low[0],\n",
    "                                    env.action_space.high[0])\n",
    "\n",
    "            next_obs, reward, done, info = env.step(action)\n",
    "\n",
    "            obs = next_obs\n",
    "            total_reward += reward\n",
    "\n",
    "            if render:\n",
    "                env.render()\n",
    "            if done:\n",
    "                break\n",
    "        eval_reward.append(total_reward)\n",
    "    return np.mean(eval_reward)"
   ]
  },
  {
   "cell_type": "code",
   "execution_count": null,
   "metadata": {},
   "outputs": [],
   "source": [
    "all_train_rewards=[]\n",
    "all_test_rewards=[]\n",
    "all_train_steps=[]\n",
    "all_test_steps=[]\n",
    "\n",
    "def draw_process(title,episode,reward,label, color):\n",
    "    plt.title(title, fontsize=24)\n",
    "    plt.xlabel(\"step\", fontsize=20)\n",
    "    plt.ylabel(\"train_reward\", fontsize=20)\n",
    "    plt.plot(episode, reward,color=color,label=label) \n",
    "    plt.legend()\n",
    "    plt.grid()\n",
    "    plt.show()"
   ]
  },
  {
   "cell_type": "markdown",
   "metadata": {},
   "source": [
    "## Step 6 Start training and evaluating"
   ]
  },
  {
   "cell_type": "code",
   "execution_count": 2,
   "metadata": {},
   "outputs": [],
   "source": [
    "# 创建飞行器环境\n",
    "env = make_env(\"Quadrotor\", task=\"velocity_control\", seed=0)\n",
    "\n",
    "obs_dim = env.observation_space.shape[0]\n",
    "act_dim = env.action_space.shape[0]\n",
    "max_action = float(env.action_space.high[0])\n",
    "env.reset()\n",
    "\n",
    "# 根据parl框架构建agent\n",
    "######################################################################\n",
    "######################################################################\n",
    "#\n",
    "# 6. 构建agent:  QuadrotorModel, TD3, QuadrotorAgent三者嵌套\n",
    "#\n",
    "######################################################################\n",
    "######################################################################\n",
    "model = QuadrotorModel(act_dim, max_action)\n",
    "algorithm = parl.algorithms.TD3(\n",
    "        model,\n",
    "        max_action=max_action,\n",
    "        gamma=GAMMA,\n",
    "        tau=TAU,\n",
    "        actor_lr=ACTOR_LR,\n",
    "        critic_lr=CRITIC_LR)\n",
    "agent = QuadrotorAgent(algorithm, obs_dim, act_dim)\n",
    "\n",
    "rpm = ReplayMemory(MEMORY_SIZE, obs_dim, act_dim)"
   ]
  },
  {
   "cell_type": "code",
   "execution_count": 4,
   "metadata": {},
   "outputs": [],
   "source": [
    "# 启动训练\n",
    "\n",
    "# # 加载模型\n",
    "# save_path = 'final.ckpt'\n",
    "# agent.restore(save_path)\n",
    "\n",
    "test_flag = 0\n",
    "total_steps = 0\n",
    "while total_steps < TRAIN_TOTAL_STEPS:\n",
    "    train_reward, steps = run_episode(env, agent, rpm)\n",
    "    total_steps += steps\n",
    "    all_train_rewards.append(train_reward)\n",
    "    #logger.info('Steps: {} Reward: {}'.format(total_steps, train_reward)) # 打印训练reward\n",
    "\n",
    "    if total_steps // TEST_EVERY_STEPS >= test_flag: # 每隔一定step数，评估一次模型\n",
    "        while total_steps // TEST_EVERY_STEPS >= test_flag:\n",
    "            test_flag += 1\n",
    " \n",
    "        evaluate_reward = evaluate(env, agent)\n",
    "        all_test_rewards.append(evaluate_reward)\n",
    "        logger.info('Steps {}, Test reward: {}'.format(\n",
    "            total_steps, evaluate_reward)) # 打印评估的reward\n",
    "        \n",
    "# 保存模型\n",
    "agent.save(save_path='model_dir/final.ckpt', mode='predict')        "
   ]
  },
  {
   "cell_type": "code",
   "execution_count": 3,
   "metadata": {},
   "outputs": [],
   "source": [
    "import matplotlib.pyplot as plt\n",
    "all_train_steps = [i for i in range(len(all_train_rewards))]\n",
    "all_test_steps = [i for i in range(len(all_test_rewards))]"
   ]
  },
  {
   "cell_type": "code",
   "execution_count": null,
   "metadata": {},
   "outputs": [
    {
     "name": "stderr",
     "output_type": "stream",
     "text": [
      "/opt/conda/envs/python35-paddle120-env/lib/python3.7/site-packages/matplotlib/cbook/__init__.py:2349: DeprecationWarning: Using or importing the ABCs from 'collections' instead of from 'collections.abc' is deprecated, and in 3.8 it will stop working\n",
      "  if isinstance(obj, collections.Iterator):\n",
      "/opt/conda/envs/python35-paddle120-env/lib/python3.7/site-packages/matplotlib/cbook/__init__.py:2366: DeprecationWarning: Using or importing the ABCs from 'collections' instead of from 'collections.abc' is deprecated, and in 3.8 it will stop working\n",
      "  return list(data) if isinstance(data, collections.MappingView) else data\n"
     ]
    },
    {
     "data": {
      "image/png": "[encoded data removed]",
      "text/plain": [
       "<Figure size 432x288 with 1 Axes>"
      ]
     },
     "metadata": {},
     "output_type": "display_data"
    },
    {
     "data": {
      "image/png": "[encoded data removed]",
      "text/plain": [
       "<Figure size 432x288 with 1 Axes>"
      ]
     },
     "metadata": {},
     "output_type": "display_data"
    }
   ],
   "source": [
    "draw_process(\"training\",all_train_steps,all_train_rewards,\"trainning reward\", \"red\") \n",
    "draw_process(\"testing\",all_test_steps,all_test_rewards,\"testing reward\", \"green\") "
   ]
  },
  {
   "cell_type": "markdown",
   "metadata": {},
   "source": [
    "## Step 7 Testing"
   ]
  },
  {
   "cell_type": "code",
   "execution_count": 15,
   "metadata": {},
   "outputs": [
    {
     "name": "stdout",
     "output_type": "stream",
     "text": [
      "\u001b[32m[06-29 13:37:44 MainThread @<ipython-input-15-dc2a48c50783>:12]\u001b[0m Evaluate reward: -20.3440190743928\n"
     ]
    }
   ],
   "source": [
    "######################################################################\n",
    "######################################################################\n",
    "#\n",
    "# 7. 选择训练的模型文件做评估\n",
    "#\n",
    "######################################################################\n",
    "######################################################################\n",
    "ckpt = 'model_dir/final.ckpt'  # 可以设置ckpt为训练中效果最好的一次评估保存的模型文件名称\n",
    "\n",
    "agent.restore(ckpt, mode='predict')\n",
    "evaluate_reward = evaluate(env, agent)\n",
    "logger.info('Evaluate reward: {}'.format(evaluate_reward)) # 打印评估的reward"
   ]
  }
 ],
 "metadata": {
  "kernelspec": {
   "display_name": "paddle",
   "language": "python",
   "name": "paddle"
  },
  "language_info": {
   "codemirror_mode": {
    "name": "ipython",
    "version": 3
   },
   "file_extension": ".py",
   "mimetype": "text/x-python",
   "name": "python",
   "nbconvert_exporter": "python",
   "pygments_lexer": "ipython3",
   "version": "3.7.4"
  }
 },
 "nbformat": 4,
 "nbformat_minor": 1
}
